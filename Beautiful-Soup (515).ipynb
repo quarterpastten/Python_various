{
 "cells": [
  {
   "cell_type": "markdown",
   "id": "dfd8abc1",
   "metadata": {},
   "source": [
    "### Scraping Covid data "
   ]
  },
  {
   "cell_type": "code",
   "execution_count": 1,
   "id": "437ae681",
   "metadata": {},
   "outputs": [],
   "source": [
    "import requests\n",
    "from bs4 import BeautifulSoup"
   ]
  },
  {
   "cell_type": "code",
   "execution_count": 2,
   "id": "4cd9a6c0",
   "metadata": {
    "scrolled": true
   },
   "outputs": [
    {
     "name": "stdout",
     "output_type": "stream",
     "text": [
      "<Response [200]>\n"
     ]
    }
   ],
   "source": [
    "url = 'https://www.worldometers.info/coronavirus/'\n",
    "r = requests.get(url)\n",
    "if r.status_code==200: \n",
    "    html_doc = r.text\n",
    "print(r)"
   ]
  },
  {
   "cell_type": "code",
   "execution_count": 5,
   "id": "ec3e29ed",
   "metadata": {
    "scrolled": true
   },
   "outputs": [],
   "source": [
    "soup = BeautifulSoup(html_doc)\n",
    "#print(soup.prettify())"
   ]
  },
  {
   "cell_type": "code",
   "execution_count": 9,
   "id": "43b7843c",
   "metadata": {},
   "outputs": [],
   "source": [
    "table = soup.find('table', attrs={'id': 'main_table_countries_today'})\n",
    "#print(table.prettify())"
   ]
  },
  {
   "cell_type": "code",
   "execution_count": 7,
   "id": "4853eb71",
   "metadata": {},
   "outputs": [],
   "source": [
    "# Show all of the rows of the table.\n",
    "rows = table.find_all('tr', attrs={'style': \"\"})\n",
    "\n",
    "# Storage for the extracted data.\n",
    "output = []\n",
    "\n",
    "# Specify column names.\n",
    "column_names = ['id', 'Country', 'Total Cases', 'New Cases',\n",
    "               'Total deaths', 'New Deaths', 'Total Recovered', 'New Recovered', 'Active Cases', '2', '3', '4', '5', '6', '7']\n",
    "\n",
    "# Create a for loop statement.\n",
    "for country in rows:\n",
    "    country_data = country.find_all('td')\n",
    "    if country_data:\n",
    "        # extract the text within each element\n",
    "        country_text = [td.text for td in country_data]\n",
    "        output.append(dict(zip(column_names, country_text)))\n",
    "\n",
    "# View output.\n",
    "#output"
   ]
  },
  {
   "cell_type": "code",
   "execution_count": 8,
   "id": "9d7e85ad",
   "metadata": {},
   "outputs": [
    {
     "data": {
      "text/html": [
       "<div>\n",
       "<style scoped>\n",
       "    .dataframe tbody tr th:only-of-type {\n",
       "        vertical-align: middle;\n",
       "    }\n",
       "\n",
       "    .dataframe tbody tr th {\n",
       "        vertical-align: top;\n",
       "    }\n",
       "\n",
       "    .dataframe thead th {\n",
       "        text-align: right;\n",
       "    }\n",
       "</style>\n",
       "<table border=\"1\" class=\"dataframe\">\n",
       "  <thead>\n",
       "    <tr style=\"text-align: right;\">\n",
       "      <th></th>\n",
       "      <th>id</th>\n",
       "      <th>Country</th>\n",
       "      <th>Total Cases</th>\n",
       "      <th>New Cases</th>\n",
       "      <th>Total deaths</th>\n",
       "      <th>New Deaths</th>\n",
       "      <th>Total Recovered</th>\n",
       "      <th>New Recovered</th>\n",
       "      <th>Active Cases</th>\n",
       "      <th>2</th>\n",
       "      <th>3</th>\n",
       "      <th>4</th>\n",
       "      <th>5</th>\n",
       "      <th>6</th>\n",
       "      <th>7</th>\n",
       "    </tr>\n",
       "  </thead>\n",
       "  <tbody>\n",
       "    <tr>\n",
       "      <th>0</th>\n",
       "      <td></td>\n",
       "      <td>World</td>\n",
       "      <td>617,405,840</td>\n",
       "      <td>+218,760</td>\n",
       "      <td>6,531,327</td>\n",
       "      <td>+519</td>\n",
       "      <td>597,120,226</td>\n",
       "      <td>+386,645</td>\n",
       "      <td>13,754,287</td>\n",
       "      <td>40,041</td>\n",
       "      <td>79,207</td>\n",
       "      <td>837.9</td>\n",
       "      <td></td>\n",
       "      <td></td>\n",
       "      <td></td>\n",
       "    </tr>\n",
       "    <tr>\n",
       "      <th>1</th>\n",
       "      <td>1</td>\n",
       "      <td>USA</td>\n",
       "      <td>97,512,016</td>\n",
       "      <td>+2,580</td>\n",
       "      <td>1,078,683</td>\n",
       "      <td>+20</td>\n",
       "      <td>93,976,550</td>\n",
       "      <td>+7,678</td>\n",
       "      <td>2,456,783</td>\n",
       "      <td>3,262</td>\n",
       "      <td>291,250</td>\n",
       "      <td>3,222</td>\n",
       "      <td>1,111,022,641</td>\n",
       "      <td>3,318,414</td>\n",
       "      <td>334,805,269</td>\n",
       "    </tr>\n",
       "    <tr>\n",
       "      <th>2</th>\n",
       "      <td>2</td>\n",
       "      <td>India</td>\n",
       "      <td>44,540,727</td>\n",
       "      <td>+1,681</td>\n",
       "      <td>528,355</td>\n",
       "      <td></td>\n",
       "      <td>43,962,664</td>\n",
       "      <td></td>\n",
       "      <td>49,708</td>\n",
       "      <td>698</td>\n",
       "      <td>31,665</td>\n",
       "      <td>376</td>\n",
       "      <td>891,577,185</td>\n",
       "      <td>633,838</td>\n",
       "      <td>1,406,631,776</td>\n",
       "    </tr>\n",
       "    <tr>\n",
       "      <th>3</th>\n",
       "      <td>3</td>\n",
       "      <td>France</td>\n",
       "      <td>34,921,603</td>\n",
       "      <td>+5,219</td>\n",
       "      <td>154,743</td>\n",
       "      <td>+58</td>\n",
       "      <td>34,355,276</td>\n",
       "      <td>+27,345</td>\n",
       "      <td>411,584</td>\n",
       "      <td>869</td>\n",
       "      <td>532,467</td>\n",
       "      <td>2,359</td>\n",
       "      <td>271,490,188</td>\n",
       "      <td>4,139,547</td>\n",
       "      <td>65,584,518</td>\n",
       "    </tr>\n",
       "    <tr>\n",
       "      <th>4</th>\n",
       "      <td>4</td>\n",
       "      <td>Brazil</td>\n",
       "      <td>34,629,759</td>\n",
       "      <td></td>\n",
       "      <td>685,422</td>\n",
       "      <td></td>\n",
       "      <td>33,706,231</td>\n",
       "      <td></td>\n",
       "      <td>238,106</td>\n",
       "      <td>8,318</td>\n",
       "      <td>160,804</td>\n",
       "      <td>3,183</td>\n",
       "      <td>63,776,166</td>\n",
       "      <td>296,146</td>\n",
       "      <td>215,353,593</td>\n",
       "    </tr>\n",
       "  </tbody>\n",
       "</table>\n",
       "</div>"
      ],
      "text/plain": [
       "  id Country  Total Cases New Cases Total deaths New Deaths Total Recovered  \\\n",
       "0      World  617,405,840  +218,760    6,531,327       +519     597,120,226   \n",
       "1  1     USA   97,512,016    +2,580   1,078,683         +20      93,976,550   \n",
       "2  2   India   44,540,727    +1,681     528,355                  43,962,664   \n",
       "3  3  France   34,921,603    +5,219     154,743         +58      34,355,276   \n",
       "4  4  Brazil   34,629,759               685,422                  33,706,231   \n",
       "\n",
       "  New Recovered Active Cases       2        3      4              5  \\\n",
       "0      +386,645   13,754,287  40,041   79,207  837.9                  \n",
       "1        +7,678    2,456,783   3,262  291,250  3,222  1,111,022,641   \n",
       "2                     49,708     698   31,665    376    891,577,185   \n",
       "3       +27,345      411,584     869  532,467  2,359    271,490,188   \n",
       "4                    238,106   8,318  160,804  3,183     63,776,166   \n",
       "\n",
       "           6               7  \n",
       "0                             \n",
       "1  3,318,414    334,805,269   \n",
       "2    633,838  1,406,631,776   \n",
       "3  4,139,547     65,584,518   \n",
       "4    296,146    215,353,593   "
      ]
     },
     "execution_count": 8,
     "metadata": {},
     "output_type": "execute_result"
    }
   ],
   "source": [
    "import pandas as pd \n",
    "data = pd.DataFrame(output)\n",
    "\n",
    "# View the DataFrame.\n",
    "data.head()"
   ]
  }
 ],
 "metadata": {
  "kernelspec": {
   "display_name": "Python 3 (ipykernel)",
   "language": "python",
   "name": "python3"
  },
  "language_info": {
   "codemirror_mode": {
    "name": "ipython",
    "version": 3
   },
   "file_extension": ".py",
   "mimetype": "text/x-python",
   "name": "python",
   "nbconvert_exporter": "python",
   "pygments_lexer": "ipython3",
   "version": "3.8.11"
  }
 },
 "nbformat": 4,
 "nbformat_minor": 5
}
