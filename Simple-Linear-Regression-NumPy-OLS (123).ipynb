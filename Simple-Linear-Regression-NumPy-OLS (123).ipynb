{
 "cells": [
  {
   "cell_type": "markdown",
   "id": "2d04389f",
   "metadata": {},
   "source": [
    "### Manually doing simple regression with NumPy"
   ]
  },
  {
   "cell_type": "code",
   "execution_count": 1,
   "id": "50a72269",
   "metadata": {},
   "outputs": [],
   "source": [
    "# Import NumPy and Matplotlib.\n",
    "import numpy as np\n",
    "import matplotlib.pyplot as plt"
   ]
  },
  {
   "cell_type": "code",
   "execution_count": 2,
   "id": "6c0d82e5",
   "metadata": {},
   "outputs": [],
   "source": [
    "# the regression analysis function \n",
    "def estimate_coef(x, y):\n",
    "    # Specify the size or number of points.\n",
    "    n = np.size(x)  \n",
    "\n",
    "    # Calculate the mean of x and y.\n",
    "    mean_x = np.mean(x)\n",
    "    mean_y = np.mean(y)\n",
    "\n",
    "    # Calculate the cross-deviation and deviation around x.\n",
    "    SS_xy = np.sum(y*x) - n*mean_y*mean_x\n",
    "    SS_xx = np.sum(x*x) - n*mean_x*mean_x\n",
    "\n",
    "    # Calculate the regression coefficients.\n",
    "    m = SS_xy / SS_xx\n",
    "    b = mean_y - m*mean_x\n",
    "\n",
    "    return (b, m)"
   ]
  },
  {
   "cell_type": "code",
   "execution_count": 3,
   "id": "111ecc28",
   "metadata": {},
   "outputs": [],
   "source": [
    "def plot_regression_line(x, y, b):\n",
    "    # Use scatterplot to plot the actual points.\n",
    "    plt.scatter(x, y, color = \"g\",\n",
    "               marker = \"o\", s = 30)\n",
    " \n",
    "    # Set the predicted response vector using the linear equation.\n",
    "    y_pred = b[0] + b[1]*x\n",
    " \n",
    "    #  Plot the regression line (in red).\n",
    "    plt.plot(x, y_pred, color = \"r\")\n",
    " \n",
    "    # Add two labels for clarity.\n",
    "    plt.xlabel('x')\n",
    "    plt.ylabel('y')\n",
    " \n",
    "    # Set a function to display the plot.\n",
    "    plt.show()"
   ]
  },
  {
   "cell_type": "code",
   "execution_count": 4,
   "id": "901c5454",
   "metadata": {
    "scrolled": true
   },
   "outputs": [
    {
     "name": "stdout",
     "output_type": "stream",
     "text": [
      "Estimated coefficients:\n",
      "c = 8362.602405110887            \n",
      "m = 12909.488913942112\n"
     ]
    },
    {
     "data": {
      "image/png": "[encoded data removed]",
      "text/plain": [
       "<Figure size 432x288 with 1 Axes>"
      ]
     },
     "metadata": {
      "needs_background": "light"
     },
     "output_type": "display_data"
    }
   ],
   "source": [
    "def main():\n",
    "    # Enter small data set by hand as an array.\n",
    "    x = np.array([0.9, 1, 1.1, 1.2, 1.4, 1.6, 1.8, 2, 2.2, 2.5])\n",
    "    y = np.array([20000, 22000, 23500, 26000, 25000, 28250,\n",
    "                  29300, 33000, 34255, 45000])\n",
    "\n",
    "    # Calculate the coefficients\n",
    "    b = estimate_coef(x, y)\n",
    "    print(\"Estimated coefficients:\\nc = {}  \\\n",
    "          \\nm = {}\".format(b[0], b[1]))\n",
    "\n",
    "    # Plot the regression line (i.e. y = mx + c).\n",
    "    plot_regression_line(x, y, b)\n",
    " \n",
    "main()"
   ]
  },
  {
   "cell_type": "markdown",
   "id": "d7bdd308",
   "metadata": {},
   "source": [
    "### Can use polyfit() from NumPy instead of manually doing it (as above)"
   ]
  },
  {
   "cell_type": "code",
   "execution_count": 5,
   "id": "bbd4c13c",
   "metadata": {
    "scrolled": true
   },
   "outputs": [
    {
     "data": {
      "text/plain": [
       "[<matplotlib.lines.Line2D at 0x21cf1a93070>]"
      ]
     },
     "execution_count": 5,
     "metadata": {},
     "output_type": "execute_result"
    },
    {
     "data": {
      "image/png": "[encoded data removed]",
      "text/plain": [
       "<Figure size 432x288 with 1 Axes>"
      ]
     },
     "metadata": {
      "needs_background": "light"
     },
     "output_type": "display_data"
    }
   ],
   "source": [
    "# Re-enter the values of x and y in your Notebook.\n",
    "x = np.array([0.9, 1, 1.1, 1.2, 1.4, 1.6, 1.8, 2, 2.2, 2.5])\n",
    "y = np.array([20000, 22000, 23500, 26000, 25000, 28250, 29300, 33000, 34255, 45000])\n",
    "\n",
    "# Create a basic scatterplot.\n",
    "plt.plot(x, y, 'o')  \n",
    "\n",
    "# Obtain m (slope) and c (intercept) of the linear regression line.\n",
    "m, c = np.polyfit(x, y, 1)\n",
    "\n",
    "# Add the linear regression line to the scatter plot.\n",
    "plt.plot(x, m*x+c)"
   ]
  },
  {
   "cell_type": "markdown",
   "id": "a7ee9b8b",
   "metadata": {},
   "source": [
    "### Can also use <i>ols</i> from Statsmodel"
   ]
  },
  {
   "cell_type": "code",
   "execution_count": 6,
   "id": "2b011664",
   "metadata": {
    "scrolled": false
   },
   "outputs": [
    {
     "data": {
      "text/html": [
       "<div>\n",
       "<style scoped>\n",
       "    .dataframe tbody tr th:only-of-type {\n",
       "        vertical-align: middle;\n",
       "    }\n",
       "\n",
       "    .dataframe tbody tr th {\n",
       "        vertical-align: top;\n",
       "    }\n",
       "\n",
       "    .dataframe thead th {\n",
       "        text-align: right;\n",
       "    }\n",
       "</style>\n",
       "<table border=\"1\" class=\"dataframe\">\n",
       "  <thead>\n",
       "    <tr style=\"text-align: right;\">\n",
       "      <th></th>\n",
       "      <th>x</th>\n",
       "      <th>y</th>\n",
       "    </tr>\n",
       "  </thead>\n",
       "  <tbody>\n",
       "    <tr>\n",
       "      <th>0</th>\n",
       "      <td>77</td>\n",
       "      <td>79.775152</td>\n",
       "    </tr>\n",
       "    <tr>\n",
       "      <th>1</th>\n",
       "      <td>21</td>\n",
       "      <td>23.177279</td>\n",
       "    </tr>\n",
       "    <tr>\n",
       "      <th>2</th>\n",
       "      <td>22</td>\n",
       "      <td>25.609262</td>\n",
       "    </tr>\n",
       "    <tr>\n",
       "      <th>3</th>\n",
       "      <td>20</td>\n",
       "      <td>17.857388</td>\n",
       "    </tr>\n",
       "    <tr>\n",
       "      <th>4</th>\n",
       "      <td>36</td>\n",
       "      <td>41.849864</td>\n",
       "    </tr>\n",
       "    <tr>\n",
       "      <th>...</th>\n",
       "      <td>...</td>\n",
       "      <td>...</td>\n",
       "    </tr>\n",
       "    <tr>\n",
       "      <th>295</th>\n",
       "      <td>71</td>\n",
       "      <td>68.545888</td>\n",
       "    </tr>\n",
       "    <tr>\n",
       "      <th>296</th>\n",
       "      <td>46</td>\n",
       "      <td>47.334876</td>\n",
       "    </tr>\n",
       "    <tr>\n",
       "      <th>297</th>\n",
       "      <td>55</td>\n",
       "      <td>54.090637</td>\n",
       "    </tr>\n",
       "    <tr>\n",
       "      <th>298</th>\n",
       "      <td>62</td>\n",
       "      <td>63.297171</td>\n",
       "    </tr>\n",
       "    <tr>\n",
       "      <th>299</th>\n",
       "      <td>47</td>\n",
       "      <td>52.459467</td>\n",
       "    </tr>\n",
       "  </tbody>\n",
       "</table>\n",
       "<p>300 rows × 2 columns</p>\n",
       "</div>"
      ],
      "text/plain": [
       "      x          y\n",
       "0    77  79.775152\n",
       "1    21  23.177279\n",
       "2    22  25.609262\n",
       "3    20  17.857388\n",
       "4    36  41.849864\n",
       "..   ..        ...\n",
       "295  71  68.545888\n",
       "296  46  47.334876\n",
       "297  55  54.090637\n",
       "298  62  63.297171\n",
       "299  47  52.459467\n",
       "\n",
       "[300 rows x 2 columns]"
      ]
     },
     "execution_count": 6,
     "metadata": {},
     "output_type": "execute_result"
    }
   ],
   "source": [
    "# Import statsmodels, NumPy, Pandas, and Matplotlib.\n",
    "import statsmodels.api as sm \n",
    "from statsmodels.formula.api import ols\n",
    "import numpy as np\n",
    "import pandas as pd\n",
    "import matplotlib.pyplot as plt\n",
    "\n",
    "# Import and read the data file:\n",
    "df_test = pd.read_csv('LSE_DA301_Week_1_files/Data/test.csv')\n",
    "\n",
    "df_test"
   ]
  },
  {
   "cell_type": "code",
   "execution_count": 7,
   "id": "d79cd168",
   "metadata": {},
   "outputs": [
    {
     "data": {
      "text/plain": [
       "<matplotlib.collections.PathCollection at 0x21cf53217f0>"
      ]
     },
     "execution_count": 7,
     "metadata": {},
     "output_type": "execute_result"
    },
    {
     "data": {
      "image/png": "[encoded data removed]",
      "text/plain": [
       "<Figure size 432x288 with 1 Axes>"
      ]
     },
     "metadata": {
      "needs_background": "light"
     },
     "output_type": "display_data"
    }
   ],
   "source": [
    "# Define the dependent variable.\n",
    "y = df_test['y'] \n",
    "\n",
    "# Define the independent variable.\n",
    "x = df_test['x'] \n",
    "\n",
    "# Check for linearity.\n",
    "plt.scatter(x, y) "
   ]
  },
  {
   "cell_type": "code",
   "execution_count": 8,
   "id": "f2777ff5",
   "metadata": {
    "scrolled": false
   },
   "outputs": [
    {
     "data": {
      "text/html": [
       "<table class=\"simpletable\">\n",
       "<caption>OLS Regression Results</caption>\n",
       "<tr>\n",
       "  <th>Dep. Variable:</th>            <td>y</td>        <th>  R-squared:         </th> <td>   0.989</td> \n",
       "</tr>\n",
       "<tr>\n",
       "  <th>Model:</th>                   <td>OLS</td>       <th>  Adj. R-squared:    </th> <td>   0.989</td> \n",
       "</tr>\n",
       "<tr>\n",
       "  <th>Method:</th>             <td>Least Squares</td>  <th>  F-statistic:       </th> <td>2.709e+04</td>\n",
       "</tr>\n",
       "<tr>\n",
       "  <th>Date:</th>             <td>Tue, 19 Jul 2022</td> <th>  Prob (F-statistic):</th> <td>1.33e-294</td>\n",
       "</tr>\n",
       "<tr>\n",
       "  <th>Time:</th>                 <td>18:54:03</td>     <th>  Log-Likelihood:    </th> <td> -757.98</td> \n",
       "</tr>\n",
       "<tr>\n",
       "  <th>No. Observations:</th>      <td>   300</td>      <th>  AIC:               </th> <td>   1520.</td> \n",
       "</tr>\n",
       "<tr>\n",
       "  <th>Df Residuals:</th>          <td>   298</td>      <th>  BIC:               </th> <td>   1527.</td> \n",
       "</tr>\n",
       "<tr>\n",
       "  <th>Df Model:</th>              <td>     1</td>      <th>                     </th>     <td> </td>    \n",
       "</tr>\n",
       "<tr>\n",
       "  <th>Covariance Type:</th>      <td>nonrobust</td>    <th>                     </th>     <td> </td>    \n",
       "</tr>\n",
       "</table>\n",
       "<table class=\"simpletable\">\n",
       "<tr>\n",
       "      <td></td>         <th>coef</th>     <th>std err</th>      <th>t</th>      <th>P>|t|</th>  <th>[0.025</th>    <th>0.975]</th>  \n",
       "</tr>\n",
       "<tr>\n",
       "  <th>Intercept</th> <td>   -0.4618</td> <td>    0.360</td> <td>   -1.284</td> <td> 0.200</td> <td>   -1.169</td> <td>    0.246</td>\n",
       "</tr>\n",
       "<tr>\n",
       "  <th>x</th>         <td>    1.0143</td> <td>    0.006</td> <td>  164.598</td> <td> 0.000</td> <td>    1.002</td> <td>    1.026</td>\n",
       "</tr>\n",
       "</table>\n",
       "<table class=\"simpletable\">\n",
       "<tr>\n",
       "  <th>Omnibus:</th>       <td> 1.034</td> <th>  Durbin-Watson:     </th> <td>   2.006</td>\n",
       "</tr>\n",
       "<tr>\n",
       "  <th>Prob(Omnibus):</th> <td> 0.596</td> <th>  Jarque-Bera (JB):  </th> <td>   0.825</td>\n",
       "</tr>\n",
       "<tr>\n",
       "  <th>Skew:</th>          <td> 0.117</td> <th>  Prob(JB):          </th> <td>   0.662</td>\n",
       "</tr>\n",
       "<tr>\n",
       "  <th>Kurtosis:</th>      <td> 3.104</td> <th>  Cond. No.          </th> <td>    120.</td>\n",
       "</tr>\n",
       "</table><br/><br/>Notes:<br/>[1] Standard Errors assume that the covariance matrix of the errors is correctly specified."
      ],
      "text/plain": [
       "<class 'statsmodels.iolib.summary.Summary'>\n",
       "\"\"\"\n",
       "                            OLS Regression Results                            \n",
       "==============================================================================\n",
       "Dep. Variable:                      y   R-squared:                       0.989\n",
       "Model:                            OLS   Adj. R-squared:                  0.989\n",
       "Method:                 Least Squares   F-statistic:                 2.709e+04\n",
       "Date:                Tue, 19 Jul 2022   Prob (F-statistic):          1.33e-294\n",
       "Time:                        18:54:03   Log-Likelihood:                -757.98\n",
       "No. Observations:                 300   AIC:                             1520.\n",
       "Df Residuals:                     298   BIC:                             1527.\n",
       "Df Model:                           1                                         \n",
       "Covariance Type:            nonrobust                                         \n",
       "==============================================================================\n",
       "                 coef    std err          t      P>|t|      [0.025      0.975]\n",
       "------------------------------------------------------------------------------\n",
       "Intercept     -0.4618      0.360     -1.284      0.200      -1.169       0.246\n",
       "x              1.0143      0.006    164.598      0.000       1.002       1.026\n",
       "==============================================================================\n",
       "Omnibus:                        1.034   Durbin-Watson:                   2.006\n",
       "Prob(Omnibus):                  0.596   Jarque-Bera (JB):                0.825\n",
       "Skew:                           0.117   Prob(JB):                        0.662\n",
       "Kurtosis:                       3.104   Cond. No.                         120.\n",
       "==============================================================================\n",
       "\n",
       "Notes:\n",
       "[1] Standard Errors assume that the covariance matrix of the errors is correctly specified.\n",
       "\"\"\""
      ]
     },
     "execution_count": 8,
     "metadata": {},
     "output_type": "execute_result"
    }
   ],
   "source": [
    "# fit the model\n",
    "\n",
    "# (Note: this formula is in the style of R language)\n",
    "# 'y ~ x' signifies dependent var and independent var. For our data this equates to\n",
    "# 'Price ~ Size'\n",
    "\n",
    "# Create formula and pass through OLS methods.\n",
    "f = 'y ~ x'\n",
    "test = ols(f, data = df_test).fit()\n",
    "\n",
    "# Print the regression table.\n",
    "test.summary() "
   ]
  },
  {
   "cell_type": "code",
   "execution_count": 9,
   "id": "5fb06f15",
   "metadata": {},
   "outputs": [
    {
     "name": "stdout",
     "output_type": "stream",
     "text": [
      "Parameters:  Intercept   -0.461811\n",
      "x            1.014335\n",
      "dtype: float64\n",
      "Standard errors:  Intercept    0.359560\n",
      "x            0.006162\n",
      "dtype: float64\n",
      "Predicted values:  [ 77.64201157  20.83923168  21.85356704  19.82489633  36.05426201\n",
      "  14.75321955  62.42698124  95.90004796  19.82489633   4.609866\n",
      "   3.59553065  18.81056097  96.91438332  62.42698124  36.05426201\n",
      "  14.75321955  65.46998731  13.7388842   87.78536512  69.52732873\n",
      "  89.81403583  51.26929234  89.81403583  26.92524381  97.92871867\n",
      "  58.36963982  79.67068228  20.83923168  93.87137725  26.92524381\n",
      "  99.95738938  30.98258524  33.01125595  80.68501764  27.93957917\n",
      "  47.21195092  53.29796305  69.52732873  27.93957917  33.01125595\n",
      "  91.84270654  71.55599944  50.25495698  76.62767622   3.59553065\n",
      "  37.06859737  70.54166408  68.51299337  40.11160343  35.03992666\n",
      "  94.88571261  88.79970048  52.28362769  30.98258524  59.38397518\n",
      "  -0.46181077  39.09726808  64.45565195  69.52732873  57.35530447\n",
      "  12.72454884  72.57033479  76.62767622  61.41264589  82.71368835\n",
      "  17.79622562  41.12593879  50.25495698  55.32663376  12.72454884\n",
      "  46.19761556  12.72454884  79.67068228  53.29796305  14.75321955\n",
      "  27.93957917  81.69935299  69.52732873  52.28362769  84.74235906\n",
      "  68.51299337  26.92524381  56.34096911  48.22628627  40.11160343\n",
      "  39.09726808  82.71368835 100.97172474  59.38397518  43.1546095\n",
      "  67.49865802  38.08293272  63.4413166   91.84270654  60.39831053\n",
      "  13.7388842   20.83923168  87.78536512  73.58467015  31.99692059\n",
      "   1.56685994  82.71368835  18.81056097  74.59900551  42.14027414\n",
      "  11.71021349   0.55252458  90.82837119  89.81403583  -0.46181077\n",
      "  41.12593879  15.76755491  94.88571261  97.92871867  66.48432266\n",
      "  23.88223775  16.78189026  90.82837119  12.72454884  -0.46181077\n",
      "  64.45565195  96.91438332  98.94305403  11.71021349  41.12593879\n",
      "  47.21195092  78.65634693  19.82489633  89.81403583  28.95391452\n",
      "  64.45565195  75.61334086  11.71021349  24.8965731   27.93957917\n",
      "  29.96824988  65.46998731  59.38397518  64.45565195  53.29796305\n",
      "  71.55599944  97.92871867  73.58467015   8.66720742  11.71021349\n",
      "  63.4413166   99.95738938  60.39831053  35.03992666   1.56685994\n",
      "  60.39831053  31.99692059  94.88571261  84.74235906  63.4413166\n",
      "  21.85356704  81.69935299  93.87137725  33.01125595   6.63853671\n",
      "  42.14027414  46.19761556  54.3122984   15.76755491  49.24062163\n",
      "  43.1546095   95.90004796  66.48432266  20.83923168  35.03992666\n",
      "  80.68501764  37.06859737  54.3122984   56.34096911   0.55252458\n",
      "  31.99692059  58.36963982  31.99692059  46.19761556  72.57033479\n",
      "  16.78189026  97.92871867  93.87137725  91.84270654  37.06859737\n",
      "   3.59553065  54.3122984   51.26929234  26.92524381  46.19761556\n",
      "  92.8570419   73.58467015  77.64201157  91.84270654  61.41264589\n",
      "  99.95738938   3.59553065  72.57033479  18.81056097  57.35530447\n",
      "  78.65634693  25.91090846  74.59900551  90.82837119  66.48432266\n",
      "  12.72454884  40.11160343  77.64201157  67.49865802  75.61334086\n",
      "  22.86790239  45.18328021  59.38397518  44.16894485  22.86790239\n",
      "  55.32663376  55.32663376  95.90004796  11.71021349   3.59553065\n",
      "   6.63853671 100.97172474  48.22628627  42.14027414  96.91438332\n",
      "  39.09726808 100.97172474  87.78536512  13.7388842   13.7388842\n",
      "  37.06859737   4.609866    88.79970048  91.84270654  65.46998731\n",
      "  74.59900551  56.34096911  15.76755491   4.609866    27.93957917\n",
      "  92.8570419   46.19761556  54.3122984   39.09726808  44.16894485\n",
      "  30.98258524  68.51299337  86.77102977  90.82837119  38.08293272\n",
      "  20.83923168  95.90004796  56.34096911  60.39831053  65.46998731\n",
      "  78.65634693  89.81403583   5.62420136  67.49865802  36.05426201\n",
      "  15.76755491 100.97172474  45.18328021  73.58467015  57.35530447\n",
      "  19.82489633  76.62767622  34.0255913   55.32663376  72.57033479\n",
      "  55.32663376   7.65287207  56.34096911  72.57033479  58.36963982\n",
      "   5.62420136  96.91438332  22.86790239  58.36963982  22.86790239\n",
      "  18.81056097  24.8965731   64.45565195  20.83923168  59.38397518\n",
      "  18.81056097  15.76755491  42.14027414  43.1546095   61.41264589\n",
      "  92.8570419   10.69587813  41.12593879   0.55252458   7.65287207\n",
      "  71.55599944  46.19761556  55.32663376  62.42698124  47.21195092]\n"
     ]
    }
   ],
   "source": [
    "# Extract the estimated parameters.\n",
    "print(\"Parameters: \", test.params)  \n",
    "\n",
    "# Extract the standard errors.\n",
    "print(\"Standard errors: \", test.bse)  \n",
    "\n",
    "# Extract the predicted values.\n",
    "print(\"Predicted values: \", test.predict())"
   ]
  },
  {
   "cell_type": "code",
   "execution_count": 10,
   "id": "6ee7e1b1",
   "metadata": {
    "scrolled": true
   },
   "outputs": [
    {
     "data": {
      "text/plain": [
       "0      77.6393\n",
       "1      20.8385\n",
       "2      21.8528\n",
       "3      19.8242\n",
       "4      36.0530\n",
       "        ...   \n",
       "295    71.5535\n",
       "296    46.1960\n",
       "297    55.3247\n",
       "298    62.4248\n",
       "299    47.2103\n",
       "Name: x, Length: 300, dtype: float64"
      ]
     },
     "execution_count": 10,
     "metadata": {},
     "output_type": "execute_result"
    }
   ],
   "source": [
    "# Set the the x coefficient to ‘1.0143’ and the constant to ’0.4618’ to generate the regression table.\n",
    "y_pred = 1.0143 * df_test['x'] - 0.4618\n",
    "\n",
    "y_pred"
   ]
  },
  {
   "cell_type": "code",
   "execution_count": 11,
   "id": "dd2c9c87",
   "metadata": {},
   "outputs": [
    {
     "data": {
      "image/png": "[encoded data removed]",
      "text/plain": [
       "<Figure size 432x288 with 1 Axes>"
      ]
     },
     "metadata": {
      "needs_background": "light"
     },
     "output_type": "display_data"
    }
   ],
   "source": [
    "import matplotlib.pyplot as plt\n",
    "\n",
    "# Plot the data points.\n",
    "plt.scatter(x,y)  \n",
    "\n",
    "# Plot the regression line (in black).\n",
    "plt.plot(x,y_pred, color='black') \n",
    "\n",
    "# Set the x and y limits on the axes:\n",
    "plt.xlim(0)\n",
    "plt.ylim(0)\n",
    "plt.show()"
   ]
  }
 ],
 "metadata": {
  "kernelspec": {
   "display_name": "Python 3 (ipykernel)",
   "language": "python",
   "name": "python3"
  },
  "language_info": {
   "codemirror_mode": {
    "name": "ipython",
    "version": 3
   },
   "file_extension": ".py",
   "mimetype": "text/x-python",
   "name": "python",
   "nbconvert_exporter": "python",
   "pygments_lexer": "ipython3",
   "version": "3.8.11"
  }
 },
 "nbformat": 4,
 "nbformat_minor": 5
}
