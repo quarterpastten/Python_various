{
 "cells": [
  {
   "cell_type": "markdown",
   "id": "5e8d2d5a",
   "metadata": {},
   "source": [
    "### Telcom National (TN) wants to determine if a customer is likely to churn"
   ]
  },
  {
   "cell_type": "code",
   "execution_count": 1,
   "id": "a5bcfd37",
   "metadata": {},
   "outputs": [
    {
     "name": "stdout",
     "output_type": "stream",
     "text": [
      "<class 'pandas.core.frame.DataFrame'>\n",
      "RangeIndex: 41188 entries, 0 to 41187\n",
      "Data columns (total 19 columns):\n",
      " #   Column         Non-Null Count  Dtype  \n",
      "---  ------         --------------  -----  \n",
      " 0   Age            41188 non-null  int64  \n",
      " 1   Occupation     41188 non-null  object \n",
      " 2   Status         41188 non-null  object \n",
      " 3   Edu            41188 non-null  object \n",
      " 4   House          41188 non-null  object \n",
      " 5   Loan           41188 non-null  object \n",
      " 6   Comm           41188 non-null  object \n",
      " 7   Month          41188 non-null  object \n",
      " 8   DOW            41188 non-null  object \n",
      " 9   Duration       41188 non-null  int64  \n",
      " 10  Campaign       41188 non-null  int64  \n",
      " 11  PosDays        41188 non-null  int64  \n",
      " 12  Last_out       41188 non-null  object \n",
      " 13  Var_rate       41188 non-null  float64\n",
      " 14  Price_idx      41188 non-null  float64\n",
      " 15  Conf_idx       41188 non-null  float64\n",
      " 16  Month_rate     41188 non-null  float64\n",
      " 17  Quarterly_emp  41188 non-null  float64\n",
      " 18  Target         41188 non-null  int64  \n",
      "dtypes: float64(5), int64(5), object(9)\n",
      "memory usage: 6.0+ MB\n"
     ]
    }
   ],
   "source": [
    "# Import all necessary libraries.\n",
    "import pandas as pd \n",
    "import numpy as np \n",
    "import scipy as scp\n",
    "import sklearn\n",
    "from sklearn import metrics\n",
    "import statsmodels.api as sm  \n",
    "\n",
    "# Note: Helps split data into sets to create BLR.\n",
    "from imblearn.over_sampling import SMOTE  \n",
    "from sklearn.model_selection import train_test_split\n",
    "\n",
    "import warnings  \n",
    "warnings.filterwarnings('ignore')  \n",
    "\n",
    "df = pd.read_csv('LSE_DA301_Week_2_files/Data/customer_data.csv')  \n",
    "\n",
    "df.info()  "
   ]
  },
  {
   "cell_type": "code",
   "execution_count": 2,
   "id": "e077733a",
   "metadata": {},
   "outputs": [
    {
     "data": {
      "text/plain": [
       "array(['pre-school', 'other', 'uni', 'high-school', 'masters'],\n",
       "      dtype=object)"
      ]
     },
     "execution_count": 2,
     "metadata": {},
     "output_type": "execute_result"
    }
   ],
   "source": [
    "# [1] Update all the details of the education column:\n",
    "df.loc[df['Edu'].str.contains('basic'),'Edu' ] = 'pre-school'\n",
    "df.loc[df['Edu'].str.contains('university'),'Edu' ] = 'uni'\n",
    "df.loc[df['Edu'].str.contains('high'),'Edu' ] = 'high-school'\n",
    "df.loc[df['Edu'].str.contains('professional') ,'Edu'] = 'masters'\n",
    "df.loc[df['Edu'].str.contains('illiterate'),'Edu' ] = 'other'\n",
    "df.loc[df['Edu'].str.contains('unknown'),'Edu' ] = 'other'\n",
    "\n",
    "# [2] Display all the unique values/check changes.\n",
    "df['Edu'].unique() "
   ]
  },
  {
   "cell_type": "code",
   "execution_count": 3,
   "id": "ab64afcf",
   "metadata": {},
   "outputs": [
    {
     "data": {
      "text/plain": [
       "0         pre-school\n",
       "1              other\n",
       "2                uni\n",
       "3        high-school\n",
       "4         pre-school\n",
       "            ...     \n",
       "41183    high-school\n",
       "41184     pre-school\n",
       "41185            uni\n",
       "41186        masters\n",
       "41187    high-school\n",
       "Name: Edu, Length: 41188, dtype: object"
      ]
     },
     "execution_count": 3,
     "metadata": {},
     "output_type": "execute_result"
    }
   ],
   "source": [
    "df['Edu']"
   ]
  },
  {
   "cell_type": "markdown",
   "id": "dc33d8b7",
   "metadata": {},
   "source": [
    "#### Below we create dummy vars - just to be consistent with BLR and SVM models that we used on this data. May not really need them with decision trees though e.g. if the values re already discrete."
   ]
  },
  {
   "cell_type": "code",
   "execution_count": 4,
   "id": "90933c70",
   "metadata": {},
   "outputs": [
    {
     "data": {
      "text/plain": [
       "array(['Age', 'Duration', 'Campaign', 'PosDays', 'Var_rate', 'Price_idx',\n",
       "       'Conf_idx', 'Month_rate', 'Quarterly_emp', 'Target',\n",
       "       'Occupation_admin.', 'Occupation_blue-collar',\n",
       "       'Occupation_entrepreneur', 'Occupation_housemaid',\n",
       "       'Occupation_management', 'Occupation_retired',\n",
       "       'Occupation_self-employed', 'Occupation_services',\n",
       "       'Occupation_student', 'Occupation_technician',\n",
       "       'Occupation_unemployed', 'Occupation_unknown', 'Status_divorced',\n",
       "       'Status_married', 'Status_single', 'Status_unknown',\n",
       "       'Edu_high-school', 'Edu_masters', 'Edu_other', 'Edu_pre-school',\n",
       "       'Edu_uni', 'House_no', 'House_unknown', 'House_yes', 'Loan_no',\n",
       "       'Loan_unknown', 'Loan_yes', 'Comm_cellular', 'Comm_telephone',\n",
       "       'Month_apr', 'Month_aug', 'Month_dec', 'Month_jul', 'Month_jun',\n",
       "       'Month_mar', 'Month_may', 'Month_nov', 'Month_oct', 'Month_sep',\n",
       "       'DOW_fri', 'DOW_mon', 'DOW_thu', 'DOW_tue', 'DOW_wed',\n",
       "       'Last_out_failure', 'Last_out_nonexistent', 'Last_out_success'],\n",
       "      dtype=object)"
      ]
     },
     "execution_count": 4,
     "metadata": {},
     "output_type": "execute_result"
    }
   ],
   "source": [
    "# Name new DataFrame and convert categorical variables to dummy variables:\n",
    "cat_vars=['Occupation','Status','Edu','House','Loan',\n",
    "          'Comm','Month','DOW','Last_out']\n",
    "\n",
    "for var in cat_vars:  \n",
    "    # cat_list='var'+'_'+var\n",
    "    # Specify details of the categorical list.\n",
    "    cat_list = pd.get_dummies(df[var], prefix=var)  \n",
    "    # Indicate the joining of the DataFrames.\n",
    "    df=df.join(cat_list) \n",
    "\n",
    "df_fin = df.drop(cat_vars,axis=1) \n",
    "\n",
    "# Specify the column names:\n",
    "cat_vars=['Occupation','Status','Edu','House','Loan',\n",
    "          'Comm','Month','DOW','Last_out']\n",
    "\n",
    "# Set a temporary DataFrame and add values.\n",
    "df_vars=df.columns.values.tolist()  \n",
    "\n",
    "# Indicate what columns are kept.\n",
    "to_keep=[i for i in df_vars if i not in cat_vars] \n",
    "\n",
    "# Define new DataFrame.\n",
    "df_fin=df[to_keep]  \n",
    "\n",
    "# Print the column.\n",
    "df_fin.columns.values "
   ]
  },
  {
   "cell_type": "markdown",
   "id": "019ec53d",
   "metadata": {},
   "source": [
    "#### Balance the data - again for consistency with what we did for BLR and SVM - using SMOTE. \n",
    "Also doing the train/test split here"
   ]
  },
  {
   "cell_type": "code",
   "execution_count": 6,
   "id": "99dddca4",
   "metadata": {
    "scrolled": true
   },
   "outputs": [
    {
     "name": "stdout",
     "output_type": "stream",
     "text": [
      "length of oversampled data is  51134\n"
     ]
    },
    {
     "data": {
      "text/html": [
       "<div>\n",
       "<style scoped>\n",
       "    .dataframe tbody tr th:only-of-type {\n",
       "        vertical-align: middle;\n",
       "    }\n",
       "\n",
       "    .dataframe tbody tr th {\n",
       "        vertical-align: top;\n",
       "    }\n",
       "\n",
       "    .dataframe thead th {\n",
       "        text-align: right;\n",
       "    }\n",
       "</style>\n",
       "<table border=\"1\" class=\"dataframe\">\n",
       "  <thead>\n",
       "    <tr style=\"text-align: right;\">\n",
       "      <th></th>\n",
       "      <th>Target</th>\n",
       "    </tr>\n",
       "  </thead>\n",
       "  <tbody>\n",
       "    <tr>\n",
       "      <th>0</th>\n",
       "      <td>0</td>\n",
       "    </tr>\n",
       "    <tr>\n",
       "      <th>1</th>\n",
       "      <td>0</td>\n",
       "    </tr>\n",
       "    <tr>\n",
       "      <th>2</th>\n",
       "      <td>0</td>\n",
       "    </tr>\n",
       "    <tr>\n",
       "      <th>3</th>\n",
       "      <td>0</td>\n",
       "    </tr>\n",
       "    <tr>\n",
       "      <th>4</th>\n",
       "      <td>0</td>\n",
       "    </tr>\n",
       "    <tr>\n",
       "      <th>...</th>\n",
       "      <td>...</td>\n",
       "    </tr>\n",
       "    <tr>\n",
       "      <th>51129</th>\n",
       "      <td>1</td>\n",
       "    </tr>\n",
       "    <tr>\n",
       "      <th>51130</th>\n",
       "      <td>1</td>\n",
       "    </tr>\n",
       "    <tr>\n",
       "      <th>51131</th>\n",
       "      <td>1</td>\n",
       "    </tr>\n",
       "    <tr>\n",
       "      <th>51132</th>\n",
       "      <td>1</td>\n",
       "    </tr>\n",
       "    <tr>\n",
       "      <th>51133</th>\n",
       "      <td>1</td>\n",
       "    </tr>\n",
       "  </tbody>\n",
       "</table>\n",
       "<p>51134 rows × 1 columns</p>\n",
       "</div>"
      ],
      "text/plain": [
       "       Target\n",
       "0           0\n",
       "1           0\n",
       "2           0\n",
       "3           0\n",
       "4           0\n",
       "...       ...\n",
       "51129       1\n",
       "51130       1\n",
       "51131       1\n",
       "51132       1\n",
       "51133       1\n",
       "\n",
       "[51134 rows x 1 columns]"
      ]
     },
     "execution_count": 6,
     "metadata": {},
     "output_type": "execute_result"
    }
   ],
   "source": [
    "# Create a DataFrame to use as df_fin and replace missing values with zero.\n",
    "df_fin = df_fin.fillna(0)  \n",
    "\n",
    "# Select necessary columns: \n",
    "nec_cols = [ 'Status_divorced', 'Status_married',\n",
    "            'Status_single', 'Status_unknown', \n",
    "            'Edu_high-school', 'Edu_masters', \n",
    "            'Edu_other', 'Edu_pre-school', \n",
    "            'Edu_uni', 'House_no', 'House_unknown',\n",
    "            'House_yes', 'Loan_no', 'Loan_unknown', \n",
    "            'Loan_yes', 'DOW_fri', 'DOW_mon']\n",
    "\n",
    "X = df_fin[nec_cols]\n",
    "y = df_fin['Target']\n",
    "\n",
    "# Create a new DataFrame and \n",
    "# apply SMOTE as the target variable is not balanced.\n",
    "os = SMOTE(random_state=0)  \n",
    "X_train, X_test, y_train, y_test = train_test_split(X, y, test_size=0.3, random_state=0)\n",
    "\n",
    "# Specify column values.\n",
    "columns = X_train.columns  \n",
    "# Specify the new data sets.\n",
    "os_data_X,os_data_y=os.fit_resample(X_train, y_train)  \n",
    "\n",
    "# Create two DataFrames for X and one for y:\n",
    "os_data_X = pd.DataFrame(data=os_data_X,columns=columns )\n",
    "os_data_y= pd.DataFrame(data=os_data_y,columns=['Target'])\n",
    "\n",
    "# Print/check the DataFrame:\n",
    "print(\"length of oversampled data is \",len(os_data_X))\n",
    "\n",
    "os_data_y"
   ]
  },
  {
   "cell_type": "code",
   "execution_count": 7,
   "id": "259ac009",
   "metadata": {},
   "outputs": [
    {
     "data": {
      "text/plain": [
       "0    25567\n",
       "1    25567\n",
       "Name: Target, dtype: int64"
      ]
     },
     "execution_count": 7,
     "metadata": {},
     "output_type": "execute_result"
    }
   ],
   "source": [
    "# Determine if values in a column are balanced.\n",
    "os_data_y['Target'].value_counts()  "
   ]
  },
  {
   "cell_type": "markdown",
   "id": "eb511cf7",
   "metadata": {},
   "source": [
    "#### Decision tree from SKlearn"
   ]
  },
  {
   "cell_type": "code",
   "execution_count": 8,
   "id": "96ee7f6b",
   "metadata": {},
   "outputs": [],
   "source": [
    "# Import the DecisionTreeClassifier class from sklearn. \n",
    "from sklearn.tree import DecisionTreeClassifier  \n",
    "\n",
    "# Create a classification decision tree classifier object as dtc: \n",
    "dtc = DecisionTreeClassifier(criterion='gini', max_depth=4, random_state=1)\n",
    "\n",
    "# Train the decision tree classifier.\n",
    "dtc = dtc.fit(os_data_X, os_data_y) \n",
    "\n",
    "# Predict the response for the test data set.\n",
    "y_pred = dtc.predict(X_test)  "
   ]
  },
  {
   "cell_type": "markdown",
   "id": "e590e8fe",
   "metadata": {},
   "source": [
    "#### accuracy "
   ]
  },
  {
   "cell_type": "code",
   "execution_count": 9,
   "id": "a4bb180b",
   "metadata": {},
   "outputs": [
    {
     "name": "stdout",
     "output_type": "stream",
     "text": [
      "[[8561 2420]\n",
      " [ 956  420]]\n",
      "Accuracy: 0.726794529416525\n",
      "Precision: 0.14788732394366197\n",
      "Recall: 0.30523255813953487\n"
     ]
    }
   ],
   "source": [
    "# Import scikit-learn metrics module for accuracy calculation:\n",
    "from sklearn.metrics import confusion_matrix\n",
    "\n",
    "# Use the print() function to display the confusion matrix results:\n",
    "print(confusion_matrix(y_test, y_pred))\n",
    "\n",
    "# Metrics for accuracy.\n",
    "print(\"Accuracy:\",metrics.accuracy_score(y_test, y_pred)) \n",
    "\n",
    "# Metrics for precision. \n",
    "print(\"Precision:\",metrics.precision_score(y_test, y_pred)) \n",
    "\n",
    "# Metrics for recall.\n",
    "print(\"Recall:\",metrics.recall_score(y_test, y_pred)) "
   ]
  },
  {
   "cell_type": "markdown",
   "id": "000dcd3b",
   "metadata": {},
   "source": [
    "#### Classification report"
   ]
  },
  {
   "cell_type": "code",
   "execution_count": 10,
   "id": "93749e04",
   "metadata": {},
   "outputs": [
    {
     "name": "stdout",
     "output_type": "stream",
     "text": [
      "              precision    recall  f1-score   support\n",
      "\n",
      "           0       0.90      0.78      0.84     10981\n",
      "           1       0.15      0.31      0.20      1376\n",
      "\n",
      "    accuracy                           0.73     12357\n",
      "   macro avg       0.52      0.54      0.52     12357\n",
      "weighted avg       0.82      0.73      0.76     12357\n",
      "\n"
     ]
    }
   ],
   "source": [
    "from sklearn.metrics import classification_report\n",
    "\n",
    "print(classification_report(y_test, y_pred))"
   ]
  },
  {
   "cell_type": "markdown",
   "id": "2ee921ca",
   "metadata": {},
   "source": [
    "#### Comments"
   ]
  },
  {
   "cell_type": "markdown",
   "id": "9befd407",
   "metadata": {},
   "source": [
    "accuracy (72.7% = okish)\n",
    "\n",
    "precision (14.8%) is very low\n",
    "\n",
    "recall (30%) is fairly low. Means we are incorrectly classifying many pos cases i.e. 2420 FPs)"
   ]
  },
  {
   "cell_type": "markdown",
   "id": "b06e2a86",
   "metadata": {},
   "source": [
    "#### visualise"
   ]
  },
  {
   "cell_type": "code",
   "execution_count": 11,
   "id": "490978cf",
   "metadata": {},
   "outputs": [
    {
     "data": {
      "image/png": "[encoded data removed]",
      "text/plain": [
       "<Figure size 720x720 with 1 Axes>"
      ]
     },
     "metadata": {
      "needs_background": "light"
     },
     "output_type": "display_data"
    }
   ],
   "source": [
    "# Import matplotlib to create a visualisation \n",
    "# and the tree package from sklearn:\n",
    "import matplotlib.pyplot as plt \n",
    "from sklearn import tree\n",
    "\n",
    "# Plot the decision tree to create the visualisation:\n",
    "fig, ax = plt.subplots(figsize=(10, 10))\n",
    "tree.plot_tree(dtc, fontsize=10)\n",
    "\n",
    "# Print the plot with plt.show().\n",
    "plt.show() "
   ]
  }
 ],
 "metadata": {
  "kernelspec": {
   "display_name": "Python 3 (ipykernel)",
   "language": "python",
   "name": "python3"
  },
  "language_info": {
   "codemirror_mode": {
    "name": "ipython",
    "version": 3
   },
   "file_extension": ".py",
   "mimetype": "text/x-python",
   "name": "python",
   "nbconvert_exporter": "python",
   "pygments_lexer": "ipython3",
   "version": "3.8.11"
  }
 },
 "nbformat": 4,
 "nbformat_minor": 5
}
