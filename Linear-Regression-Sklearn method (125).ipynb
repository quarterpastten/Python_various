{
 "cells": [
  {
   "cell_type": "code",
   "execution_count": 1,
   "id": "b1f3ed84",
   "metadata": {},
   "outputs": [
    {
     "data": {
      "text/html": [
       "<div>\n",
       "<style scoped>\n",
       "    .dataframe tbody tr th:only-of-type {\n",
       "        vertical-align: middle;\n",
       "    }\n",
       "\n",
       "    .dataframe tbody tr th {\n",
       "        vertical-align: top;\n",
       "    }\n",
       "\n",
       "    .dataframe thead th {\n",
       "        text-align: right;\n",
       "    }\n",
       "</style>\n",
       "<table border=\"1\" class=\"dataframe\">\n",
       "  <thead>\n",
       "    <tr style=\"text-align: right;\">\n",
       "      <th></th>\n",
       "      <th>YearsExperience</th>\n",
       "      <th>Salary</th>\n",
       "    </tr>\n",
       "  </thead>\n",
       "  <tbody>\n",
       "    <tr>\n",
       "      <th>0</th>\n",
       "      <td>1.1</td>\n",
       "      <td>39343.0</td>\n",
       "    </tr>\n",
       "    <tr>\n",
       "      <th>1</th>\n",
       "      <td>1.3</td>\n",
       "      <td>46205.0</td>\n",
       "    </tr>\n",
       "    <tr>\n",
       "      <th>2</th>\n",
       "      <td>1.5</td>\n",
       "      <td>37731.0</td>\n",
       "    </tr>\n",
       "    <tr>\n",
       "      <th>3</th>\n",
       "      <td>2.0</td>\n",
       "      <td>43525.0</td>\n",
       "    </tr>\n",
       "    <tr>\n",
       "      <th>4</th>\n",
       "      <td>2.2</td>\n",
       "      <td>39891.0</td>\n",
       "    </tr>\n",
       "  </tbody>\n",
       "</table>\n",
       "</div>"
      ],
      "text/plain": [
       "   YearsExperience   Salary\n",
       "0              1.1  39343.0\n",
       "1              1.3  46205.0\n",
       "2              1.5  37731.0\n",
       "3              2.0  43525.0\n",
       "4              2.2  39891.0"
      ]
     },
     "execution_count": 1,
     "metadata": {},
     "output_type": "execute_result"
    }
   ],
   "source": [
    "import statsmodels.api as sm \n",
    "from sklearn import datasets \n",
    "import numpy as np  \n",
    "from sklearn import linear_model \n",
    "import pandas as pd \n",
    "import matplotlib.pyplot as plt \n",
    "import sklearn\n",
    "\n",
    "from sklearn.model_selection import train_test_split\n",
    "from sklearn import metrics\n",
    "from sklearn.linear_model import LinearRegression\n",
    "\n",
    "data = pd.read_csv('LSE_DA301_Week_1_files/Data/salary_data.csv') \n",
    "\n",
    "data.head() "
   ]
  },
  {
   "cell_type": "code",
   "execution_count": 2,
   "id": "34bc0a10",
   "metadata": {},
   "outputs": [
    {
     "name": "stdout",
     "output_type": "stream",
     "text": [
      "<class 'pandas.core.frame.DataFrame'>\n",
      "RangeIndex: 30 entries, 0 to 29\n",
      "Data columns (total 2 columns):\n",
      " #   Column           Non-Null Count  Dtype  \n",
      "---  ------           --------------  -----  \n",
      " 0   YearsExperience  30 non-null     float64\n",
      " 1   Salary           30 non-null     float64\n",
      "dtypes: float64(2)\n",
      "memory usage: 608.0 bytes\n"
     ]
    }
   ],
   "source": [
    "data.info()"
   ]
  },
  {
   "cell_type": "code",
   "execution_count": 3,
   "id": "62339636",
   "metadata": {},
   "outputs": [
    {
     "data": {
      "text/html": [
       "<div>\n",
       "<style scoped>\n",
       "    .dataframe tbody tr th:only-of-type {\n",
       "        vertical-align: middle;\n",
       "    }\n",
       "\n",
       "    .dataframe tbody tr th {\n",
       "        vertical-align: top;\n",
       "    }\n",
       "\n",
       "    .dataframe thead th {\n",
       "        text-align: right;\n",
       "    }\n",
       "</style>\n",
       "<table border=\"1\" class=\"dataframe\">\n",
       "  <thead>\n",
       "    <tr style=\"text-align: right;\">\n",
       "      <th></th>\n",
       "      <th>YearsExperience</th>\n",
       "      <th>Salary</th>\n",
       "    </tr>\n",
       "  </thead>\n",
       "  <tbody>\n",
       "    <tr>\n",
       "      <th>count</th>\n",
       "      <td>30.000000</td>\n",
       "      <td>30.000000</td>\n",
       "    </tr>\n",
       "    <tr>\n",
       "      <th>mean</th>\n",
       "      <td>5.313333</td>\n",
       "      <td>76003.000000</td>\n",
       "    </tr>\n",
       "    <tr>\n",
       "      <th>std</th>\n",
       "      <td>2.837888</td>\n",
       "      <td>27414.429785</td>\n",
       "    </tr>\n",
       "    <tr>\n",
       "      <th>min</th>\n",
       "      <td>1.100000</td>\n",
       "      <td>37731.000000</td>\n",
       "    </tr>\n",
       "    <tr>\n",
       "      <th>25%</th>\n",
       "      <td>3.200000</td>\n",
       "      <td>56720.750000</td>\n",
       "    </tr>\n",
       "    <tr>\n",
       "      <th>50%</th>\n",
       "      <td>4.700000</td>\n",
       "      <td>65237.000000</td>\n",
       "    </tr>\n",
       "    <tr>\n",
       "      <th>75%</th>\n",
       "      <td>7.700000</td>\n",
       "      <td>100544.750000</td>\n",
       "    </tr>\n",
       "    <tr>\n",
       "      <th>max</th>\n",
       "      <td>10.500000</td>\n",
       "      <td>122391.000000</td>\n",
       "    </tr>\n",
       "  </tbody>\n",
       "</table>\n",
       "</div>"
      ],
      "text/plain": [
       "       YearsExperience         Salary\n",
       "count        30.000000      30.000000\n",
       "mean          5.313333   76003.000000\n",
       "std           2.837888   27414.429785\n",
       "min           1.100000   37731.000000\n",
       "25%           3.200000   56720.750000\n",
       "50%           4.700000   65237.000000\n",
       "75%           7.700000  100544.750000\n",
       "max          10.500000  122391.000000"
      ]
     },
     "execution_count": 3,
     "metadata": {},
     "output_type": "execute_result"
    }
   ],
   "source": [
    "# basic stats\n",
    "# descriptive statistics.\n",
    "data.describe() "
   ]
  },
  {
   "cell_type": "code",
   "execution_count": 8,
   "id": "198e7f89",
   "metadata": {},
   "outputs": [
    {
     "data": {
      "text/plain": [
       "(30, 1)"
      ]
     },
     "execution_count": 8,
     "metadata": {},
     "output_type": "execute_result"
    }
   ],
   "source": [
    "# Define the dependent variable.\n",
    "y = data['Salary'].values.reshape(-1, 1) \n",
    "\n",
    "# Define the independent variable.\n",
    "x = data['YearsExperience'].values.reshape(-1, 1)\n",
    "\n",
    "# reshape is convert from e.g. (30,), which is 1D, to (30,1) i.e. 2D\n",
    "x.shape"
   ]
  },
  {
   "cell_type": "code",
   "execution_count": 9,
   "id": "801e2764",
   "metadata": {},
   "outputs": [
    {
     "data": {
      "text/plain": [
       "LinearRegression()"
      ]
     },
     "execution_count": 9,
     "metadata": {},
     "output_type": "execute_result"
    }
   ],
   "source": [
    "# Specify the model.\n",
    "lm = LinearRegression()\n",
    "\n",
    "# Fit the model.\n",
    "lm.fit(x, y) "
   ]
  },
  {
   "cell_type": "code",
   "execution_count": 10,
   "id": "f711f7dd",
   "metadata": {},
   "outputs": [
    {
     "data": {
      "text/plain": [
       "array([[ 36187.15875227],\n",
       "       [ 38077.15121656],\n",
       "       [ 39967.14368085],\n",
       "       [ 44692.12484158],\n",
       "       [ 46582.11730587],\n",
       "       [ 53197.09093089],\n",
       "       [ 54142.08716303],\n",
       "       [ 56032.07962732],\n",
       "       [ 56032.07962732],\n",
       "       [ 60757.06078805],\n",
       "       [ 62647.05325234],\n",
       "       [ 63592.04948449],\n",
       "       [ 63592.04948449],\n",
       "       [ 64537.04571663],\n",
       "       [ 68317.03064522],\n",
       "       [ 72097.0155738 ],\n",
       "       [ 73987.00803809],\n",
       "       [ 75877.00050238],\n",
       "       [ 81546.97789525],\n",
       "       [ 82491.9741274 ],\n",
       "       [ 90051.94398456],\n",
       "       [ 92886.932681  ],\n",
       "       [100446.90253816],\n",
       "       [103281.8912346 ],\n",
       "       [108006.87239533],\n",
       "       [110841.86109176],\n",
       "       [115566.84225249],\n",
       "       [116511.83848464],\n",
       "       [123126.81210966],\n",
       "       [125016.80457395]])"
      ]
     },
     "execution_count": 10,
     "metadata": {},
     "output_type": "execute_result"
    }
   ],
   "source": [
    "# Print the target values.\n",
    "lm.predict(x) "
   ]
  },
  {
   "cell_type": "code",
   "execution_count": 13,
   "id": "146b730a",
   "metadata": {
    "scrolled": true
   },
   "outputs": [
    {
     "name": "stdout",
     "output_type": "stream",
     "text": [
      "[25792.20019867]\n",
      "[[9449.96232146]]\n"
     ]
    }
   ],
   "source": [
    "# note: unlike statsmodels, there is no summary table. But we can view the elements individually:\n",
    "print(lm.intercept_)\n",
    "print(lm.coef_) "
   ]
  },
  {
   "cell_type": "code",
   "execution_count": 14,
   "id": "d3b1976d",
   "metadata": {},
   "outputs": [
    {
     "data": {
      "image/png": "[encoded data removed]",
      "text/plain": [
       "<Figure size 432x288 with 1 Axes>"
      ]
     },
     "metadata": {
      "needs_background": "light"
     },
     "output_type": "display_data"
    }
   ],
   "source": [
    "# Create a scatterplot (with red data points). \n",
    "plt.scatter(x, y, color = 'red')  \n",
    "\n",
    "# Create a regression line in green.\n",
    "plt.plot(x, lm.predict(x), color = 'green') \n",
    "\n",
    "#Set the title and labels for the graph.\n",
    "plt.title(\"Years of Experience vs Ave. Salary\") \n",
    "plt.xlabel(\"Years of Experience\") \n",
    "plt.ylabel(\"Ave. Salary\")\n",
    "\n",
    "# Print the graph. \n",
    "plt.show() "
   ]
  },
  {
   "cell_type": "code",
   "execution_count": 15,
   "id": "da85cc58",
   "metadata": {},
   "outputs": [
    {
     "name": "stdout",
     "output_type": "stream",
     "text": [
      "[[ 73042.01180594]\n",
      " [120291.82341322]\n",
      " [167541.63502049]\n",
      " [214791.44662777]\n",
      " [262041.25823505]\n",
      " [309291.06984232]]\n"
     ]
    }
   ],
   "source": [
    "# send in some values for x and make some predictions:\n",
    "\n",
    "# Use the predict() method with an array to call the \n",
    "# salaries for each number of years’ experience.\n",
    "predictedSalary = lm.predict([[5],[10],[15],[20],[25],[30]])  \n",
    "\n",
    "# Print the results.\n",
    "print(predictedSalary)"
   ]
  },
  {
   "cell_type": "markdown",
   "id": "2dab16cc",
   "metadata": {},
   "source": [
    "### Using a test and train split "
   ]
  },
  {
   "cell_type": "code",
   "execution_count": 16,
   "id": "e6a322b5",
   "metadata": {},
   "outputs": [],
   "source": [
    "#  Import the sklearn module.\n",
    "from sklearn.model_selection import train_test_split \n",
    "\n",
    "# Create  the subset (50/50); \n",
    "# Control the shuffling/avoid variation in values between variable.\n",
    "x_train,x_test,y_train,y_test = train_test_split(x,y,train_size=0.5, \n",
    "                                                 random_state=100)"
   ]
  },
  {
   "cell_type": "code",
   "execution_count": 17,
   "id": "c777d117",
   "metadata": {},
   "outputs": [
    {
     "data": {
      "text/plain": [
       "LinearRegression()"
      ]
     },
     "execution_count": 17,
     "metadata": {},
     "output_type": "execute_result"
    }
   ],
   "source": [
    "# Linear regression; fitting the model.\n",
    "lm.fit(x_train,y_train)"
   ]
  },
  {
   "cell_type": "code",
   "execution_count": 21,
   "id": "85b1893a",
   "metadata": {},
   "outputs": [
    {
     "name": "stdout",
     "output_type": "stream",
     "text": [
      "0.9382035605624517\n",
      "Intercept value:  [24768.13991346]\n",
      "Coefficient value:  [[9981.76903593]]\n"
     ]
    },
    {
     "data": {
      "image/png": "[encoded data removed]",
      "text/plain": [
       "<Figure size 432x288 with 1 Axes>"
      ]
     },
     "metadata": {
      "needs_background": "light"
     },
     "output_type": "display_data"
    }
   ],
   "source": [
    "# Predict the training set values.\n",
    "y_pred = lm.predict(x_train)\n",
    "# Create a scatterplot with regression line.\n",
    "plt.scatter(x_train, y_train, color = 'red')  \n",
    "plt.plot(x_train, y_pred, color = 'green')\n",
    "\n",
    "# Print R-squared value of the training data.\n",
    "print(lm.score(x_train,y_train)) \n",
    "# Print the intercept value.\n",
    "print(\"Intercept value: \", lm.intercept_) \n",
    "# Print the coefficient value.\n",
    "print(\"Coefficient value: \", lm.coef_)"
   ]
  },
  {
   "cell_type": "code",
   "execution_count": 22,
   "id": "994ebe40",
   "metadata": {},
   "outputs": [
    {
     "data": {
      "image/png": "[encoded data removed]",
      "text/plain": [
       "<Figure size 432x288 with 1 Axes>"
      ]
     },
     "metadata": {
      "needs_background": "light"
     },
     "output_type": "display_data"
    }
   ],
   "source": [
    "# Linear regression; fitting the model.\n",
    "lm.fit(x_test,y_test)\n",
    "# Predict the test set values.\n",
    "y_pred = lm.predict(x_test) \n",
    "\n",
    "# Create a scatterplot with regression line.\n",
    "plt.scatter(x_test, y_test, color = 'red') \n",
    "plt.plot(x_test, y_pred, color = 'green')\n",
    "\n",
    "# Set the title and legends for the graph.  \n",
    "plt.title(\"Years of Experience vs Ave. Salary\")\n",
    "plt.xlabel(\"Years of Experience\")\n",
    "plt.ylabel(\"Ave. Salary\") \n",
    "\n",
    "# Print the graph. \n",
    "plt.show() "
   ]
  },
  {
   "cell_type": "code",
   "execution_count": 23,
   "id": "080cbc22",
   "metadata": {},
   "outputs": [
    {
     "name": "stdout",
     "output_type": "stream",
     "text": [
      "0.9742725108027231\n",
      "Intercept value:  [24929.61625619]\n",
      "Coefficient value:  [[9333.43003625]]\n"
     ]
    }
   ],
   "source": [
    "# Print R-squared value of the test data.\n",
    "print(lm.score(x_test,y_test)) \n",
    "\n",
    "# Print the intercept value.\n",
    "print(\"Intercept value: \", lm.intercept_) \n",
    "\n",
    "# Print the coefficient value.\n",
    "print(\"Coefficient value: \", lm.coef_)"
   ]
  }
 ],
 "metadata": {
  "kernelspec": {
   "display_name": "Python 3 (ipykernel)",
   "language": "python",
   "name": "python3"
  },
  "language_info": {
   "codemirror_mode": {
    "name": "ipython",
    "version": 3
   },
   "file_extension": ".py",
   "mimetype": "text/x-python",
   "name": "python",
   "nbconvert_exporter": "python",
   "pygments_lexer": "ipython3",
   "version": "3.8.11"
  }
 },
 "nbformat": 4,
 "nbformat_minor": 5
}
