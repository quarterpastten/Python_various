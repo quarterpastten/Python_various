{
 "cells": [
  {
   "cell_type": "code",
   "execution_count": 2,
   "id": "f6a4ac86",
   "metadata": {},
   "outputs": [],
   "source": [
    "import statsmodels.stats.api as sms\n",
    "from statsmodels.stats.power import TTestIndPower"
   ]
  },
  {
   "cell_type": "code",
   "execution_count": 8,
   "id": "1c807833",
   "metadata": {},
   "outputs": [
    {
     "name": "stdout",
     "output_type": "stream",
     "text": [
      "1565.490\n"
     ]
    }
   ],
   "source": [
    "##################################\n",
    "# Power analysis to determine\n",
    "# sample size\n",
    "##################################\n",
    "\n",
    "analysis = TTestIndPower()\n",
    "\n",
    "# reject H0 if below this threshold (CI of .95) \n",
    "alpha = .05\n",
    "\n",
    "# min change in values that is meaningful. We w ant to go from 50% to 55%. \n",
    "effect = sms.proportion_effectsize(.5,.55)\n",
    "\n",
    "# power = probability this test will correctly reject H0. 0.8 is the convention.\n",
    "power = .8\n",
    "\n",
    "# Send these as parameters to solver_power(). Ratio concerns the relative sizes of the groups. We here keep them the same (1)\n",
    "result = analysis.solve_power(effect, power=power, nobs1=None,\n",
    "                              ratio=1.0, alpha=alpha) \n",
    "# 3 decimal places\n",
    "print('%.3f' % result)"
   ]
  },
  {
   "cell_type": "code",
   "execution_count": 12,
   "id": "44dddf26",
   "metadata": {
    "scrolled": false
   },
   "outputs": [
    {
     "name": "stdout",
     "output_type": "stream",
     "text": [
      "        Unnamed: 0  RecordID     IPAddress  LoyaltyPage  ServerID  \\\n",
      "0                0         1   39.13.114.2            1         2   \n",
      "1                1         2     13.3.25.8            1         1   \n",
      "2                2         3   247.8.211.8            1         1   \n",
      "3                3         4   124.8.220.3            0         3   \n",
      "4                4         5   60.10.192.7            0         2   \n",
      "...            ...       ...           ...          ...       ...   \n",
      "184583      184583    184584   114.8.104.1            0         1   \n",
      "184584      184584    184585   207.2.110.5            0         2   \n",
      "184585      184585    184586   170.13.31.9            0         2   \n",
      "184586      184586    184587   195.14.92.3            0         3   \n",
      "184587      184587    184588  172.12.115.8            0         2   \n",
      "\n",
      "        VisitPageFlag  \n",
      "0                   0  \n",
      "1                   0  \n",
      "2                   0  \n",
      "3                   0  \n",
      "4                   0  \n",
      "...               ...  \n",
      "184583              0  \n",
      "184584              1  \n",
      "184585              0  \n",
      "184586              0  \n",
      "184587              1  \n",
      "\n",
      "[184588 rows x 6 columns]\n"
     ]
    },
    {
     "data": {
      "text/plain": [
       "(184588, 6)"
      ]
     },
     "execution_count": 12,
     "metadata": {},
     "output_type": "execute_result"
    }
   ],
   "source": [
    "##################################\n",
    "# Import data\n",
    "##################################\n",
    "import pandas as pd\n",
    "import numpy as np\n",
    "import math\n",
    "import scipy.stats as st\n",
    "import matplotlib as mpl\n",
    "import matplotlib.pyplot as plt\n",
    "\n",
    "df = pd.read_csv('LSE_DA301_Week_1_files/Data/new_bike_shop_AB.csv')\n",
    "print(df)\n",
    "df.shape"
   ]
  },
  {
   "cell_type": "code",
   "execution_count": 23,
   "id": "5fbcd059",
   "metadata": {},
   "outputs": [],
   "source": [
    "##################################\n",
    "# Clean data\n",
    "##################################\n",
    "df_new = df.drop_duplicates()\n",
    "df_new = df_new.drop(['Unnamed: 0', 'RecordID', 'VisitPageFlag'], axis=1)"
   ]
  },
  {
   "cell_type": "code",
   "execution_count": 25,
   "id": "6d8f702e",
   "metadata": {
    "scrolled": true
   },
   "outputs": [
    {
     "data": {
      "text/html": [
       "<div>\n",
       "<style scoped>\n",
       "    .dataframe tbody tr th:only-of-type {\n",
       "        vertical-align: middle;\n",
       "    }\n",
       "\n",
       "    .dataframe tbody tr th {\n",
       "        vertical-align: top;\n",
       "    }\n",
       "\n",
       "    .dataframe thead th {\n",
       "        text-align: right;\n",
       "    }\n",
       "</style>\n",
       "<table border=\"1\" class=\"dataframe\">\n",
       "  <thead>\n",
       "    <tr style=\"text-align: right;\">\n",
       "      <th></th>\n",
       "      <th>IPAddress</th>\n",
       "      <th>LoyaltyPage</th>\n",
       "      <th>ServerID</th>\n",
       "    </tr>\n",
       "  </thead>\n",
       "  <tbody>\n",
       "    <tr>\n",
       "      <th>0</th>\n",
       "      <td>39.13.114.2</td>\n",
       "      <td>1</td>\n",
       "      <td>2</td>\n",
       "    </tr>\n",
       "    <tr>\n",
       "      <th>1</th>\n",
       "      <td>13.3.25.8</td>\n",
       "      <td>1</td>\n",
       "      <td>1</td>\n",
       "    </tr>\n",
       "    <tr>\n",
       "      <th>2</th>\n",
       "      <td>247.8.211.8</td>\n",
       "      <td>1</td>\n",
       "      <td>1</td>\n",
       "    </tr>\n",
       "    <tr>\n",
       "      <th>3</th>\n",
       "      <td>124.8.220.3</td>\n",
       "      <td>0</td>\n",
       "      <td>3</td>\n",
       "    </tr>\n",
       "    <tr>\n",
       "      <th>4</th>\n",
       "      <td>60.10.192.7</td>\n",
       "      <td>0</td>\n",
       "      <td>2</td>\n",
       "    </tr>\n",
       "    <tr>\n",
       "      <th>...</th>\n",
       "      <td>...</td>\n",
       "      <td>...</td>\n",
       "      <td>...</td>\n",
       "    </tr>\n",
       "    <tr>\n",
       "      <th>184583</th>\n",
       "      <td>114.8.104.1</td>\n",
       "      <td>0</td>\n",
       "      <td>1</td>\n",
       "    </tr>\n",
       "    <tr>\n",
       "      <th>184584</th>\n",
       "      <td>207.2.110.5</td>\n",
       "      <td>0</td>\n",
       "      <td>2</td>\n",
       "    </tr>\n",
       "    <tr>\n",
       "      <th>184585</th>\n",
       "      <td>170.13.31.9</td>\n",
       "      <td>0</td>\n",
       "      <td>2</td>\n",
       "    </tr>\n",
       "    <tr>\n",
       "      <th>184586</th>\n",
       "      <td>195.14.92.3</td>\n",
       "      <td>0</td>\n",
       "      <td>3</td>\n",
       "    </tr>\n",
       "    <tr>\n",
       "      <th>184587</th>\n",
       "      <td>172.12.115.8</td>\n",
       "      <td>0</td>\n",
       "      <td>2</td>\n",
       "    </tr>\n",
       "  </tbody>\n",
       "</table>\n",
       "<p>184588 rows × 3 columns</p>\n",
       "</div>"
      ],
      "text/plain": [
       "           IPAddress  LoyaltyPage  ServerID\n",
       "0        39.13.114.2            1         2\n",
       "1          13.3.25.8            1         1\n",
       "2        247.8.211.8            1         1\n",
       "3        124.8.220.3            0         3\n",
       "4        60.10.192.7            0         2\n",
       "...              ...          ...       ...\n",
       "184583   114.8.104.1            0         1\n",
       "184584   207.2.110.5            0         2\n",
       "184585   170.13.31.9            0         2\n",
       "184586   195.14.92.3            0         3\n",
       "184587  172.12.115.8            0         2\n",
       "\n",
       "[184588 rows x 3 columns]"
      ]
     },
     "execution_count": 25,
     "metadata": {},
     "output_type": "execute_result"
    }
   ],
   "source": [
    "df_new"
   ]
  },
  {
   "cell_type": "code",
   "execution_count": 28,
   "id": "2b07edea",
   "metadata": {
    "scrolled": false
   },
   "outputs": [
    {
     "data": {
      "text/html": [
       "<div>\n",
       "<style scoped>\n",
       "    .dataframe tbody tr th:only-of-type {\n",
       "        vertical-align: middle;\n",
       "    }\n",
       "\n",
       "    .dataframe tbody tr th {\n",
       "        vertical-align: top;\n",
       "    }\n",
       "\n",
       "    .dataframe thead th {\n",
       "        text-align: right;\n",
       "    }\n",
       "</style>\n",
       "<table border=\"1\" class=\"dataframe\">\n",
       "  <thead>\n",
       "    <tr style=\"text-align: right;\">\n",
       "      <th></th>\n",
       "      <th>IPAddress</th>\n",
       "      <th>LoyaltyPage</th>\n",
       "      <th>ServerID</th>\n",
       "    </tr>\n",
       "  </thead>\n",
       "  <tbody>\n",
       "    <tr>\n",
       "      <th>0</th>\n",
       "      <td>39.13.114.2</td>\n",
       "      <td>1</td>\n",
       "      <td>Control</td>\n",
       "    </tr>\n",
       "    <tr>\n",
       "      <th>1</th>\n",
       "      <td>13.3.25.8</td>\n",
       "      <td>1</td>\n",
       "      <td>Treatment</td>\n",
       "    </tr>\n",
       "    <tr>\n",
       "      <th>2</th>\n",
       "      <td>247.8.211.8</td>\n",
       "      <td>1</td>\n",
       "      <td>Treatment</td>\n",
       "    </tr>\n",
       "    <tr>\n",
       "      <th>3</th>\n",
       "      <td>124.8.220.3</td>\n",
       "      <td>0</td>\n",
       "      <td>Control</td>\n",
       "    </tr>\n",
       "    <tr>\n",
       "      <th>4</th>\n",
       "      <td>60.10.192.7</td>\n",
       "      <td>0</td>\n",
       "      <td>Control</td>\n",
       "    </tr>\n",
       "  </tbody>\n",
       "</table>\n",
       "</div>"
      ],
      "text/plain": [
       "     IPAddress  LoyaltyPage   ServerID\n",
       "0  39.13.114.2            1    Control\n",
       "1    13.3.25.8            1  Treatment\n",
       "2  247.8.211.8            1  Treatment\n",
       "3  124.8.220.3            0    Control\n",
       "4  60.10.192.7            0    Control"
      ]
     },
     "execution_count": 28,
     "metadata": {},
     "output_type": "execute_result"
    }
   ],
   "source": [
    "##################################\n",
    "# Subset \n",
    "##################################\n",
    "df_new['ServerID'] = df_new['ServerID'].map({1: 'Treatment', 2: 'Control', 3: 'Control'})\n",
    "df_new.head()"
   ]
  },
  {
   "cell_type": "code",
   "execution_count": 29,
   "id": "5f2ee9fd",
   "metadata": {
    "scrolled": true
   },
   "outputs": [
    {
     "name": "stdout",
     "output_type": "stream",
     "text": [
      "           IPAddress  LoyaltyPage   ServerID\n",
      "50986     172.13.4.7            0  Treatment\n",
      "109572   198.5.215.5            1  Treatment\n",
      "105604   16.15.101.7            0  Treatment\n",
      "16478      3.4.151.8            1  Treatment\n",
      "153531    3.12.162.3            0  Treatment\n",
      "...              ...          ...        ...\n",
      "145353    38.0.192.8            1  Treatment\n",
      "171688   63.12.126.1            1  Treatment\n",
      "134780   25.15.142.4            0  Treatment\n",
      "126747  138.11.162.1            0  Treatment\n",
      "106900     198.2.9.3            1  Treatment\n",
      "\n",
      "[1565 rows x 3 columns]\n"
     ]
    }
   ],
   "source": [
    "# Splitting the df into the two groups.\n",
    "# Then use the sample() method to sample the number we establish above i.e. 1565\n",
    "control_sample = df_new[df_new['ServerID'] == 'Control'].sample(n=1565,\n",
    "                                                 random_state=22) \n",
    "\n",
    "treatment_sample = df_new[df_new['ServerID'] == 'Treatment'].sample(n=1565,\n",
    "                                                 random_state=22) \n",
    "print(treatment_sample)"
   ]
  },
  {
   "cell_type": "code",
   "execution_count": 40,
   "id": "53c4b3f2",
   "metadata": {
    "scrolled": true
   },
   "outputs": [
    {
     "data": {
      "text/html": [
       "<style type=\"text/css\">\n",
       "</style>\n",
       "<table id=\"T_3125d_\">\n",
       "  <thead>\n",
       "    <tr>\n",
       "      <th class=\"blank level0\" >&nbsp;</th>\n",
       "      <th class=\"col_heading level0 col0\" >conversion_rate</th>\n",
       "      <th class=\"col_heading level0 col1\" >STD_p</th>\n",
       "      <th class=\"col_heading level0 col2\" >SE_p</th>\n",
       "    </tr>\n",
       "    <tr>\n",
       "      <th class=\"index_name level0\" >ServerID</th>\n",
       "      <th class=\"blank col0\" >&nbsp;</th>\n",
       "      <th class=\"blank col1\" >&nbsp;</th>\n",
       "      <th class=\"blank col2\" >&nbsp;</th>\n",
       "    </tr>\n",
       "  </thead>\n",
       "  <tbody>\n",
       "    <tr>\n",
       "      <th id=\"T_3125d_level0_row0\" class=\"row_heading level0 row0\" >Control</th>\n",
       "      <td id=\"T_3125d_row0_col0\" class=\"data row0 col0\" >0.506</td>\n",
       "      <td id=\"T_3125d_row0_col1\" class=\"data row0 col1\" >0.500</td>\n",
       "      <td id=\"T_3125d_row0_col2\" class=\"data row0 col2\" >0.013</td>\n",
       "    </tr>\n",
       "    <tr>\n",
       "      <th id=\"T_3125d_level0_row1\" class=\"row_heading level0 row1\" >Treatment</th>\n",
       "      <td id=\"T_3125d_row1_col0\" class=\"data row1 col0\" >0.500</td>\n",
       "      <td id=\"T_3125d_row1_col1\" class=\"data row1 col1\" >0.500</td>\n",
       "      <td id=\"T_3125d_row1_col2\" class=\"data row1 col2\" >0.013</td>\n",
       "    </tr>\n",
       "  </tbody>\n",
       "</table>\n"
      ],
      "text/plain": [
       "<pandas.io.formats.style.Styler at 0x182da7dda60>"
      ]
     },
     "execution_count": 40,
     "metadata": {},
     "output_type": "execute_result"
    }
   ],
   "source": [
    "##################################\n",
    "# Perform A/B test \n",
    "##################################\n",
    "\n",
    "# Put them in same df\n",
    "ab_test = pd.concat([control_sample, treatment_sample], axis=0)\n",
    "ab_test.reset_index(drop=True, inplace=True)\n",
    "\n",
    "# groupby based on Control or Treatment\n",
    "conversion_rates = ab_test.groupby('ServerID')['LoyaltyPage']\n",
    "\n",
    "# Calculate the mean, standard deviation and standard error of the mean\n",
    "\n",
    "conversion_rates = conversion_rates.agg([np.mean, np.std, st.sem])\n",
    "conversion_rates.columns = ['conversion_rate', 'STD_p','SE_p']\n",
    "\n",
    "# 3 decimal places\n",
    "conversion_rates.style.format('{:.3f}')"
   ]
  },
  {
   "cell_type": "code",
   "execution_count": 41,
   "id": "dbcbf539",
   "metadata": {
    "scrolled": true
   },
   "outputs": [
    {
     "name": "stdout",
     "output_type": "stream",
     "text": [
      "Z test stat: 0.32\n",
      "P-value: 0.748\n",
      "Confidence Interval of 95% for control group: [0.481, 0.531]\n",
      "Confidence Interval of 95% for treatment group: [0.476, 0.525]\n"
     ]
    }
   ],
   "source": [
    "# Calculate p-value and confidence intervals\n",
    "from statsmodels.stats.proportion import proportions_ztest, proportion_confint\n",
    "control_results = ab_test[ab_test['ServerID']=='Control']['LoyaltyPage']\n",
    "treatment_results = ab_test[ab_test['ServerID']=='Treatment']['LoyaltyPage']\n",
    "\n",
    "# Number of samples\n",
    "n_con = control_results.count()\n",
    "n_treat = treatment_results.count()\n",
    "\n",
    "# Number of conversions \n",
    "successes = [control_results.sum(), treatment_results.sum()]\n",
    "\n",
    "# (Put sample counts them in a list) \n",
    "nobs = [n_con, n_treat]\n",
    "\n",
    "# Calculate the stats we want (z-test stat, p-value, CI for each group)\n",
    "\n",
    "# z-stat and p-value\n",
    "z_stat, pval = proportions_ztest(successes, nobs=nobs)\n",
    "# CI\n",
    "(lower_con, lower_treat), (upper_con, upper_treat) = proportion_confint(successes,\n",
    "                                                                        nobs=nobs,\n",
    "                                                                        \n",
    "                                                                        alpha=0.05)\n",
    "print(f'Z test stat: {z_stat:.2f}')\n",
    "print(f'P-value: {pval:.3f}')\n",
    "print(f'Confidence Interval of 95% for control group: [{lower_con:.3f}, {upper_con:.3f}]')\n",
    "print(f'Confidence Interval of 95% for treatment group: [{lower_treat:.3f}, {upper_treat:.3f}]')"
   ]
  },
  {
   "cell_type": "markdown",
   "id": "616c4e95",
   "metadata": {},
   "source": [
    "# Summary\n",
    "We saw that the control conversion rate was slightly higher than for the the treatment group (i.e. .506 vs .50). \n",
    "In any case, the p=value is > .05. Therefore, we CANNOT reject H0, which is that the new page design performs better than the old design. In other words, given the samples we chose, the differences between control and treatment conversions are consitent with H0. "
   ]
  }
 ],
 "metadata": {
  "kernelspec": {
   "display_name": "Python 3 (ipykernel)",
   "language": "python",
   "name": "python3"
  },
  "language_info": {
   "codemirror_mode": {
    "name": "ipython",
    "version": 3
   },
   "file_extension": ".py",
   "mimetype": "text/x-python",
   "name": "python",
   "nbconvert_exporter": "python",
   "pygments_lexer": "ipython3",
   "version": "3.8.11"
  }
 },
 "nbformat": 4,
 "nbformat_minor": 5
}
